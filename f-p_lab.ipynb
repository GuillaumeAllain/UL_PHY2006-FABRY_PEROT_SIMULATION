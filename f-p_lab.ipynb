{
 "cells": [
  {
   "cell_type": "markdown",
   "metadata": {},
   "source": [
    "# Interferométrie par Fabry-Perot\n",
    "\n",
    "## Éléments théoriques\n",
    "\n",
    "### La cavité Fabry-Perot\n",
    "\n",
    "Une méthode assez répandue d’analyse spectrale fait appel aux cavités de type Fabry-Perot utilisées en mode à balayage. Ce type de cavité est dû aux physiciens français C. Fabry et A. Perot. Une cavité Fabry-Perot utilisée en mode à balayage est composée de deux miroirs hautement réflectifs (~99%) dont les surfaces sont parallèles. Un des miroirs est déplacé grâce à un système piézoélectrique. Le système piézoélectrique permet de balayer une zone de déplacement donnée à une vitesse contrôlée.\n",
    "\n",
    "<img src=\"figures/figure_1.png\">\n",
    "\n",
    "Les deux miroirs étant parallèles, la lumière qui pénètre dans la cavité y subit une multitude de réflexions de manière à ce que le faisceau interfère avec lui-même. Si la cavité est de dimension telle que le faisceau subit de l’interférence constructive, ce dernier sera transmis à travers la cavité. Dans le cas où le faisceau est en situation d’interférence destructive, il sera réfléchi. Ainsi, le champ électrique à la sortie de la cavité sera proportionnel à (pour un nombre allez-retour $N$ dans la cavité de longueur $\\mathcal L$ et composées de miroirs avec une réflectivitée de $ R $):\n",
    "\n",
    "\\begin{equation}\n",
    "E(\\vec r) \\propto \\sum_N R^N e^{i k 2 \\mathcal L}\n",
    "\\end{equation}\n",
    "\n",
    "$k$ est le nombre d'onde ($\\frac{2\\pi}{\\lambda}$). Pour qu’il y ait interférence constructive, la lumière doit former une onde stationnaire entre les deux miroirs, tel qu’illustré ci-dessous. \n",
    "\n",
    "<img src=\"figures/figure_2.png\">\n",
    "\n",
    "Pour que ce soit possible, la distance L séparant les deux miroirs doit être égale à un nombre entier de demi-longueur d’onde. En termes mathématiques, ceci se traduit par :\n",
    "\\begin{equation}\n",
    "n \\mathcal L \\cos \\theta = m \\frac{\\lambda_0}{2}\n",
    "\\end{equation}\n",
    "\n",
    "\n",
    "où $m$ est un nombre entier représentant l’ordre d’interférence, $n$ est l’indice de réfraction du milieu entre les deux miroirs, $L$ est la distance entre les deux miroirs, $\\lambda_0$ est la longueur d’onde dans le vide et $\\theta$ est l’angle d’incidence du faisceau par rapport à la normale des miroirs.\n",
    "Dans notre cas, la distance $\\mathcal L$ est de l’ordre de $100$μm, l’indice $n$ est approximativement égal à $1$ et $θ \\approx 0°$. Ainsi, l’équation d’interférence constructive se résume à :\n",
    "\\begin{equation}\n",
    "\\mathcal L = \\frac{m \\lambda_0}{2} \n",
    "\\end{equation}\n",
    "\n",
    "\n",
    "Typiquement, une onde plane de longueur d’onde visible parcourt une distance de l’ordre de\n",
    "quelques centaines de demi-longueurs d’onde dans une cavité de 100μm de longueur.\n",
    "\n",
    "### L’intervalle spectral libre (ISL)\n",
    "\n",
    "L’intervalle spectral libre (« Free Spectral Range » ou encore FSR en anglais) correspond à la fréquence fondamentale de résonance de la cavité Fabry-Perot. En considérant que la longueur d’onde fondamentale, qui est la plus longue pouvant entrer en résonance, doit avoir un nœud sur chaque miroir, de sorte que $\\lambda_f = 2 n \\mathcal L$ , et en utilisant la relation bien connue $\\lambda_f \\nu_f = c$, où $\\nu_f$ représente la fréquence fondamentale et $c$ est la vitesse de la lumière dans le vide, on obtient simplement la relation de l’intervalle spectral libre suivante :\n",
    "\\begin{equation}\n",
    "\\nu_f = ISL = \\frac{c}{2} n \\mathcal L \n",
    "\\end{equation}\n",
    "\n",
    "\n",
    "Toute fréquence multiple de cette fréquence fondamentale peut entrer en résonance avec la cavité Fabry-Perot, car les longueurs d’onde correspondantes ont automatiquement une longueur représentant une fraction entière de la longueur d’onde fondamentale, tel que :\n",
    "\\begin{equation}\n",
    "p \\times ISL = \\frac{ k c }{ 2 n\\mathcal L} = \\frac{ k c}{\\lambda_f}\n",
    "\\end{equation}\n",
    "\n",
    "où $p$ est un entier. En considérant une longueur $\\mathcal L$ de 100 μm, on obtient une valeur d’$ISL$ de\n",
    "1 500 GHz (1 500 x 109 ou 1.5 x 1012 Hz). Cet exemple est illustré ci-dessous.\n",
    "\n",
    "<img src=\"figures/figure_3.png\">\n",
    "\n",
    "Ainsi, chaque fréquence de résonance est également espacée d’une valeur correspondant à un ISL. Cependant, en convertissant ces fréquences de résonance, on remarque que l’espacement en longueur d’onde varie en fonction de la longueur d’onde étudiée. Selon l’exemple ci-dessus, on observe une différence de 100 μm entre la longueur d’onde fondamentale et la seconde fréquence de résonance, alors que seulement 33.3 μm séparent la seconde de la troisième. Plus une fréquence de résonance est élevée, plus la différence entre la longueur d’onde de résonance considérée et la suivante sera petite.\n",
    "\n",
    "Le Tableau 1 présente 3 longueurs d’onde qui entrent en résonance avec une cavité ayant exactement 100 μm. On remarque que ces trois longueurs d’onde sont espacées chacune d’environ 2 nm, ce qui correspond à Δν = 1 500 GHz aux environs de 475.17 THz ($475.17 \\times 10^{12}$ Hz). Ainsi, une cavité de 100 μm ne peut différencier ces trois longueurs d’ondes, car elles entrent simultanément en résonance. La cavité Fabry-Perot utilisée pour l’expérience est constituée d’un miroir mobile qui balaye constamment un certain intervalle de déplacement. Si cette plage de déplacement se situe de part et d’autre de 100 μm, les trois longueurs d’onde vont entrer en résonance au même endroit, d’où une impossibilité à différencier ces trois longueurs d’onde. Cependant, deux fréquences espacées de moins de 2 nm seront aisément différenciables, à moins que leur espacement ne soit inférieur à la résolution de l’appareil (qui est de l’ordre de 0.01nm).\n",
    "\n",
    "<img src=\"figures/tableau_1.png\">\n",
    "\n",
    "Cet exemple illustre une des limites techniques d’une cavité Fabry-Perot. Il s’agit d’un instrument extrêmement précis sur une plage limitée de longueurs d’ondes. Cette plage d’analyse disponible est reliée à l’ordre d’interférence et à la longueur d’onde moyenne à l’étude.\n",
    "\n",
    "### L'ordre d'interférence\n",
    "\n",
    "L’ordre d’interférence $m$ constitue le nombre de demi-longueurs d’onde que contient une cavité Fabry-Perot. L’ordre d’interférence $m$ est d’une grande importance dans l’analyse d’un spectre d’émission laser. Lorsque $n = 1$, on détermine l’ordre d’interférence $m_e$ pour une longueur d’onde donnée $\\lambda_e$ avec :\n",
    "\\begin{equation}\n",
    "m_e = \\frac{2\\mathcal L}{\\lambda_e} \\label{eq_me}\n",
    "\\end{equation}\n",
    "\n",
    "En réorganisant l'équation \\ref{eq_me}:\n",
    "\\begin{equation}\n",
    "\\mathcal L = \\frac{m_e\\lambda_e}{2} \\label{equationL}\n",
    "\\end{equation}\n",
    "En différenciant l'équation \\ref{equationL}, on obtient:\n",
    "\\begin{equation}\n",
    "\\mathrm d \\mathcal L = \\frac{m_e \\mathrm d \\lambda_e}{2}\n",
    "\\end{equation}\n",
    "\n",
    "Pour un incrément $\\mathrm d \\mathcal L$ donné, la plage de longueurs d’ondes balayée sera donc proportionnelle à l’ordre $m$, tel qu’illustré ci-dessous. Des raies spectrales très rapprochées seront donc plus facilement séparées avec une cavité longue (d’ordre $m_e$ élevé) qu’avec une cavité courte. La finesse de l’interféromètre est également d’une importance cruciale dans l’analyse spectrale.\n",
    "\n",
    "<img src=\"figures/figure_4.png\">\n",
    "\n",
    "### La finesse d’une cavité Fabry-Perot\n",
    "\n",
    "<img src=\"figures/figure_5.png\">\n",
    "\n",
    "\n",
    "La figure ci-dessus présente un exemple de la transmission d’une cavité Fabry-Perot. Sur cette figure, on remarque plusieurs pics de transmission qui correspondent aux longueurs de cavité pour lesquelles il y a interférence constructive. Ainsi, chaque pic de transmission correspond à un ordre d’interférence constructive m. On retrouve un espacement en fréquence égal à l’ISL entre chaque pic de transmission. L’optimisation de l’alignement de l’interféromètre permet d’obtenir des pics minces et intenses.\n",
    "\n",
    "La finesse d’une cavité Fabry-Perot est définie mathématiquement par :\n",
    "\n",
    "\\begin{equation}\n",
    "\\mathcal f = \\frac{ISL}{\\Delta \\nu}\n",
    "\\end{equation}\n",
    "\n",
    "où $\\delta \\nu$ est la largeur totale à mi-hauteur des pics de transmission. On peut interpréter la finesse comme le nombre de crêtes de transmission que peut séparer un interféromètre entre deux ordres d’interférence successifs. Il s’agit donc d’une façon de quantifier les performances d’un interféromètre. Un des facteurs principaux affectant la finesse est la réflectivité des miroirs, qui influence directement le nombre d’allers et de retours qu’effectue la lumière à l’intérieur de la cavité. Plus le nombre d’allers et de retours est grand, plus les effets d’interférences constructives ou destructives que subira un faisceau seront grands. D’autres éléments pouvant affecter la finesse sont la qualité de surface des miroirs, les vibrations mécaniques et la stabilité thermique de l’interféromètre."
   ]
  },
  {
   "cell_type": "markdown",
   "metadata": {},
   "source": [
    "## Exercice 1\n",
    "\n",
    "**Avec les *Jupyter notebook*, il est important d'exécuter (*shift - entrée*) chacune des cellules afin d'obtenir un résultat. Vous pouvez ajouter des cellules de texte pour votre discussion avec le menu \"Insert > Insert cell below\" et en changeant avec \"Cell > Cell type > Markdown\". Les cellules sont créées en python par défaut. Les lignes en commentaire simple sont des indices pour vous aider et les lignes en commentaire doubles sont des commentaires pour vous aider à suivre le développement.**\n",
    "\n",
    "\n",
    "Dans ce premier exercice, nous allons calculer la longueur d'onde d'une source monochromatique à l'aide d'une cavité Fabry-Perot. Importons d'abord les paquets nécessaire à la simulation"
   ]
  },
  {
   "cell_type": "code",
   "execution_count": 13,
   "metadata": {},
   "outputs": [],
   "source": [
    "import numpy as np\n",
    "from scipy import signal\n",
    "import matplotlib.pyplot as plt\n",
    "\n",
    "from simulateur_fabry_perot.champ_electrique import *\n",
    "from simulateur_fabry_perot.fabry_perot import *\n",
    "from simulateur_fabry_perot.util import *"
   ]
  },
  {
   "cell_type": "markdown",
   "metadata": {},
   "source": [
    "### a)\n",
    "Générons d'abord un champ électrique statique d'une longueur d'onde donnée avec une des fonctions du simulateur: "
   ]
  },
  {
   "cell_type": "code",
   "execution_count": 18,
   "metadata": {},
   "outputs": [
    {
     "data": {
      "image/png": "[encoded data removed]",
      "text/plain": [
       "<Figure size 432x288 with 1 Axes>"
      ]
     },
     "metadata": {
      "needs_background": "light"
     },
     "output_type": "display_data"
    },
    {
     "data": {
      "image/png": "[encoded data removed]",
      "text/plain": [
       "<Figure size 432x288 with 1 Axes>"
      ]
     },
     "metadata": {
      "needs_background": "light"
     },
     "output_type": "display_data"
    }
   ],
   "source": [
    "## Longueur d'onde\n",
    "longueur_onde_1 = 632.8e-9\n",
    "\n",
    "## Fonction champ électrique (E(z))\n",
    "champ_electrique_1 = champ_electrique_discret_func()\n",
    "\n",
    "## Affichons le champ électrique sur une distance de 10 longueurs \n",
    "## d'ondes en générant un domaine discret de 1000 valeurs distribuées \n",
    "## également entre 0 et 10 \\lambda\n",
    "espace_discret = np.linspace(0,10*longueur_onde_1,1000)\n",
    "\n",
    "## Utilisons matplotlib pour générer l'affichage de la partie réelle du champ électrique\n",
    "plt.plot(espace_discret*10**6, np.real(champ_electrique_1(espace_discret)))\n",
    "plt.title(\"Figure 1: Partie réelle d'un champ électrique monochromatique\")\n",
    "plt.ylabel('Intensité normalisée')\n",
    "plt.xlabel(r'Espace ($\\mu$m)')\n",
    "plt.show()\n",
    "\n",
    "## Utilisons matplotlib pour générer l'affichage de l'intensité du champ électrique\n",
    "plt.plot(espace_discret*10**6, np.abs(champ_electrique_1(espace_discret))**2)\n",
    "plt.title(\"Figure 2: Intensité d'un champ électrique monochromatique\")\n",
    "plt.ylabel('Intensité normalisée')\n",
    "plt.xlabel(r'Espace ($\\mu$m)')\n",
    "plt.show()\n"
   ]
  },
  {
   "cell_type": "markdown",
   "metadata": {},
   "source": [
    "Comme il est possible de le voir à la Figure 2, bien que le champ électrique varie dans l'espace, son intensité est constante dans le temps. **Est-ce que c'est le cas pour la somme de deux champs électriques de longueurs d'ondes différentes? Et dans le cas de deux ondes déphasées? Discutez. Ajoutez vos cellules de codes et discussions sous celle-ci**"
   ]
  },
  {
   "cell_type": "code",
   "execution_count": 19,
   "metadata": {},
   "outputs": [
    {
     "name": "stdout",
     "output_type": "stream",
     "text": [
      "Using matplotlib backend: MacOSX\n"
     ]
    }
   ],
   "source": [
    "%matplotlib\n",
    "## Longueur d'onde\n",
    "\n",
    "longueur_onde_1 = 632.8e-9\n",
    "# longueur_onde_2 = \n",
    "\n",
    "\n",
    "## Fonction champ électrique (E(z))\n",
    "\n",
    "champ_electrique_1 = champ_electrique_discret_func(longueur_onde_1)\n",
    "# champ_electrique_2 = champ_electrique_discret_func(longueur_onde_2)\n",
    "\n",
    "\n",
    "\n",
    "## Affichons le champ électrique sur une distance de 10 longueurs \n",
    "## d'ondes en générant un domaine discret de 1000 valeurs distribuées \n",
    "## également entre 0 et 40 \\lambda\n",
    "\n",
    "\n",
    "\n",
    "# espace_discret = \n",
    "# déphasage = \n",
    "# espace_discret_dephasé = espace_discret+déphasage\n",
    "\n",
    "\n",
    "\n",
    "## Les deux champs électriques à l'étude\n",
    "\n",
    "\n",
    "# champ_electrique_somme = champ_electrique_1+champ_electrique_2\n",
    "# champ_electrique_déphasé = champ_electrique_1+champ_electrique_1\n",
    "\n",
    "\n",
    "\n",
    "## Utilisons matplotlib pour générer l'affichage de la partie réelle du champ électrique\n",
    "\n",
    "# plt.plot(espace_discret*10**6, np.real(champ_electrique_somme(espace_discret)))\n",
    "# plt.title(\"Figure 3: Partie réelle d'un champ électrique monochromatique\")\n",
    "# plt.ylabel('Intensité normalisée')\n",
    "# plt.xlabel(r'Espace ($\\mu$m)')\n",
    "# plt.show()\n",
    "\n",
    "## Utilisons matplotlib pour générer l'affichage de l'intensité du champ électrique\n",
    "\n",
    "# plt.plot(espace_discret*10**6, np.abs(champ_electrique_somme(espace_discret))**2)\n",
    "# plt.title(\"Figure 4: Intensité d'un champ électrique monochromatique\")\n",
    "# plt.ylabel('Intensité normalisée')\n",
    "# plt.xlabel(r'Espace ($\\mu$m)')\n",
    "# plt.show()\n",
    "\n",
    "## Utilisons matplotlib pour générer l'affichage de la partie réelle du champ électrique\n",
    "\n",
    "# plt.plot(espace_discret*10**6, np.real(champ_electrique_déphasé(espace_discret)))\n",
    "# plt.title(\"Figure 5: Partie réelle d'un champ électrique monochromatique\")\n",
    "# plt.ylabel('Intensité normalisée')\n",
    "# plt.xlabel(r'Espace ($\\mu$m)')\n",
    "# plt.show()\n",
    "\n",
    "## Utilisons matplotlib pour générer l'affichage de l'intensité du champ électrique\n",
    "\n",
    "# plt.plot(espace_discret*10**6, np.abs(champ_electrique_déphasé(espace_discret))**2)\n",
    "# plt.title(\"Figure 6: Intensité d'un champ électrique monochromatique\")\n",
    "# plt.ylabel('Intensité normalisée')\n",
    "# plt.xlabel(r'Espace ($\\mu$m)')\n",
    "# plt.show()"
   ]
  },
  {
   "cell_type": "markdown",
   "metadata": {},
   "source": [
    "### b)\n",
    "Observons maintenant le signal à la sortie d'une cavité Fabry-Perot. La fonction trace_fp nous donne l'intensité du champ électrique à la sortie d'une cavité Fabry-Perot qui est configuré de façon similaire à ce qui est décrit dans le protocole. La fonction retourne un tuple comprenant deux éléments: la distance entre les miroirs, l'intensité du champ électrique.\n",
    "\n",
    "Générons le champ électrique provenant d'une source parfaitement monochromatique ainsi qu'une cavité Fabry-Perot avec les paramètres suivants: $ISL = 1500 GHz$, Coefficient de réflectivité des miroirs $R = 0.97$:"
   ]
  },
  {
   "cell_type": "code",
   "execution_count": 20,
   "metadata": {},
   "outputs": [],
   "source": [
    "## Longueur d'onde\n",
    "\n",
    "longueur_onde_1 = 632.8e-9\n",
    "\n",
    "\n",
    "## Fonction champ électrique (E(z))\n",
    "\n",
    "champ_electrique_1 = champ_electrique_discret_func(longueur_onde_1)\n",
    "\n",
    "\n",
    "## Cavité F-P\n",
    "\n",
    "ISL = 1500e9\n",
    "R = 0.97\n",
    "\n",
    "trace_fp_1_he_ne = lambda amplitude, bias: trace_fp(amplitude, bias, ISL, R, champ_electrique_1)"
   ]
  },
  {
   "cell_type": "markdown",
   "metadata": {},
   "source": [
    "Tel que configuré ci-haut, trace_fp_1_he_ne est une fonction (dans les fait, c'est une fonction un peu spéciale qui nous permet d'additionner les fonctions une à l'autre) de deux paramètres, amplitude et bias. L'amplitude est la variation de distance entre les deux miroirs, et le bias correspond seulement à un déphasage entre les miroirs et le champ électrique. Voici un premier exemple d'une trace affichée pour une amplitude de $2\\mu$m"
   ]
  },
  {
   "cell_type": "code",
   "execution_count": 21,
   "metadata": {},
   "outputs": [],
   "source": [
    "distance_miroirs, intensité = trace_fp_1_he_ne(2e-6,0)\n",
    "plt.plot(distance_miroirs*1e6, intensité)\n",
    "plt.title(\"Figure 7: Intensité du champ électrique à la sortie\\n d'un Fabry-Perot d'ISL 1500 ghz\")\n",
    "plt.xlabel(r'Variation de distance entre les deux miroirs de la cavité ($\\mu m$)')\n",
    "plt.ylabel('Intensité relative du champ électrique')\n",
    "plt.show()"
   ]
  },
  {
   "cell_type": "markdown",
   "metadata": {},
   "source": [
    "En utilisant scipy, nous sommes en mesure de trouver la position des pics d'interférences constructives qui sont plus élevés que 0.5 (par rapport au maximum de signal)"
   ]
  },
  {
   "cell_type": "code",
   "execution_count": 22,
   "metadata": {},
   "outputs": [],
   "source": [
    "## Obtenons les pics plus élevés que 0.5\n",
    "\n",
    "peaks, _ = signal.find_peaks(intensité, height = 0.5)\n",
    "\n",
    "\n",
    "## Obtenons la distance entre les miroirs associé à ces pics\n",
    "\n",
    "distance = distance_miroirs[peaks]\n",
    "\n",
    "\n",
    "## Et la distance entre ces pics est la différence\n",
    "\n",
    "différence_miroirs = np.diff(distance)"
   ]
  },
  {
   "cell_type": "markdown",
   "metadata": {},
   "source": [
    "**Avec ces informations, vous êtes en mesure de calculer la longueur d'onde de 632.8e-9 nm qui a été imposée à la simulation plus haut. De la même façon, écrivez un code qui vous permettra de mesurer la longueur d'onde des deux champ électriques générés en a). Qu'est-ce qui se passe lorsque vous devrez mesurer un système qui comporte deux longueurs d'ondes? Commentez en ajoutant vos cellules de codes et discussions sous celle-ci**"
   ]
  },
  {
   "cell_type": "code",
   "execution_count": 31,
   "metadata": {},
   "outputs": [],
   "source": [
    "## Longueur d'onde\n",
    "\n",
    "longueur_onde_1 = 632.8e-9\n",
    "# longueur_onde_2 = \n",
    "\n",
    "\n",
    "## Fonction champ électrique (E(z))\n",
    "\n",
    "champ_electrique_1 = champ_electrique_discret_func(longueur_onde_1)\n",
    "# champ_electrique_2 = champ_electrique_discret_func(longueur_onde_2)\n",
    "\n",
    "\n",
    "\n",
    "## Affichons le champ électrique sur une distance de 10 longueurs \n",
    "## d'ondes en générant un domaine discret de 1000 valeurs distribuées \n",
    "## également entre 0 et 40 \\lambda\n",
    "\n",
    "\n",
    "\n",
    "# espace_discret = \n",
    "# déphasage = \n",
    "# espace_discret_dephasé = np.linspace(0+déphasage,10*longueur_onde_1+déphasage,1000)\n",
    "\n",
    "\n",
    "\n",
    "## Les deux champs électriques à l'étude\n",
    "\n",
    "\n",
    "# champ_electrique_somme = champ_electrique_1+champ_electrique_2\n",
    "# champ_electrique_déphasé = champ_electrique_1+champ_electrique_1"
   ]
  },
  {
   "cell_type": "markdown",
   "metadata": {},
   "source": [
    "### c)\n",
    "La finesse de la cavité Fabry-Perot est facteur qui englobe toutes les imperfections dans le montage (co-linéarité des miroirs, alignement de la cavité, réflectivité des miroirs, etc ..). Dans le cas de notre simulation, nous ne pouvons que changer la réfléctivité des miroirs. Ceci impact, comme il a été mentionné plus, haut, le nombre d'aller retour moyen qui sera effectué dans la cavité. **Observez l'impact de la réfléctivité des miroirs sur la finesse (calculez la finesse) et commentez sur la possibilité de faire des mesures sur des champs électriques comportant deux longueurs d'ondes distinctes en ajoutant vos cellules de codes et discussions sous celle-ci**"
   ]
  },
  {
   "cell_type": "code",
   "execution_count": 33,
   "metadata": {},
   "outputs": [],
   "source": [
    "## Longueur d'onde\n",
    "\n",
    "longueur_onde_1 = 632.8e-9\n",
    "longueur_onde_2 = 632.8e-9+0.25e-9\n",
    "\n",
    "\n",
    "## Fonction champ électrique (E(z))\n",
    "\n",
    "champ_electrique_1 = champ_electrique_discret_func(longueur_onde_1)\n",
    "champ_electrique_2 = champ_electrique_discret_func(longueur_onde_2)\n",
    "\n",
    "\n",
    "## Cavité F-P\n",
    "\n",
    "ISL = 1500e9\n",
    "R_1 = 0.97\n",
    "R_2 = 0.85\n",
    "\n",
    "## Traces à commenter:\n",
    "\n",
    "trace_fp_1_finesse = lambda amplitude, bias: trace_fp(amplitude, bias, ISL, R_1, champ_electrique_1)\n",
    "trace_fp_2_finesse = lambda amplitude, bias: trace_fp(amplitude, bias, ISL, R_2, champ_electrique_1)\n",
    "trace_fp_3_finesse = lambda amplitude, bias: trace_fp(amplitude, bias, ISL, R_1, champ_electrique_1+champ_electrique_2)\n",
    "trace_fp_4_finesse = lambda amplitude, bias: trace_fp(amplitude, bias, ISL, R_2, champ_electrique_1+champ_electrique_2)"
   ]
  },
  {
   "cell_type": "code",
   "execution_count": 34,
   "metadata": {},
   "outputs": [
    {
     "name": "stdout",
     "output_type": "stream",
     "text": [
      "La largeur du pic en nm:  [44.47702835]\n"
     ]
    }
   ],
   "source": [
    "## Indice largeur d'un pic\n",
    "## Le pic doit être isolé pour que cet algorithme naif fonctionne\n",
    "distance_miroirs, intensité = trace_fp_2_finesse(0.5e-6,50e-9)\n",
    "plt.plot(intensité)\n",
    "plt.show()\n",
    "transformation = np.abs(intensité-0.5)\n",
    "transformation = np.max(transformation) - transformation\n",
    "plt.plot(transformation)\n",
    "plt.show()\n",
    "## Obtenons les pics plus élevés que 0.25\n",
    "\n",
    "peaks, _ = signal.find_peaks(transformation, height = 0.25)\n",
    "\n",
    "\n",
    "## Obtenons la distance entre les miroirs associé à ces pics\n",
    "\n",
    "distance = distance_miroirs[peaks]\n",
    "\n",
    "\n",
    "## Et la distance entre ces pics est la différence\n",
    "\n",
    "différence_miroirs = np.diff(distance)\n",
    "\n",
    "print(\"La largeur du pic en nm: \",différence_miroirs*1e9)\n"
   ]
  },
  {
   "cell_type": "markdown",
   "metadata": {},
   "source": [
    "## Éléments théoriques\n",
    "### Diodes laser\n",
    "#### Principes de base\n",
    "<img src=\"figures/figure_6.png\">\n",
    "Tel que présentée sur la figure ci-dessus de manière simplifiée, une diode laser est constituée d’une zone active, dont l’épaisseur varie généralement de 0.1 à 0.3 μm, et de deux couches de confinement\n",
    "de part et d’autre de la couche de gain. Cette disposition en couches agit comme guide optique car les couches de confinement ont des indices de réfraction légèrement inférieurs à celui de la couche de gain. Ce confinement du champ optique dans la couche de gain empêche l’étalement du faisceau dans les couches de confinement et réduit les pertes par absorption à l’intérieur de la diode. La modification de la structure électronique des cristaux utilisés pour les zones passives de la diode permet également d’éliminer la réabsorption des photons émis par la zone active. En effet, l’énergie $h\\nu_L$ des photons émis est plus faible que l’énergie de bande interdite des autres couches de la diode. Cette structure, que l’on nomme hétérostructure à cause de l’utilisation de\n",
    "2 deux types de matériaux, permet d’obtenir un courant seuil aux environs de 0.5 kA/cm.\n",
    "\n",
    "Le courant nécessaire à la diode afin de produire une émission laser est injecté à l’aide d’un ruban métallique d’une largeur variant de 5 à 20 μm déposé à la surface de la diode. Le fait d’utiliser un ruban mince permet de délimiter la distribution latérale des porteurs de charges. Le confinement transversal du champ optique se fait grâce aux couches de confinement disposées de part et d’autre de la zone active de la diode. Le confinement latéral du champ optique à l’intérieur de la diode peut se faire via deux mécanismes : le guidage par le gain et le guidage par saut d’indice.\n",
    "\n",
    "#### Modes d'émission des diodes laser\n",
    "\n",
    "Le spectre d’émission des diodes laser varie fortement d’un modèle à l’autre. Certaines diodes émettent un nombre très restreint de modes qui couvrent moins de 0.5nm de part et d’autre de la raie d’émission principale. Par contre, d’autres diodes émettent un très grand nombre de modes étalés sur plusieurs dizaines de nanomètres. D’autres encore ne présentent qu’un seul mode d’émission (comme les diodes laser DFB). Les modes présents dans le spectre d’émission d’une diode laser peuvent être de trois types : longitudinaux, latéraux et transversaux, tels que présentés sur les Figures 9, 10, 11 et 12.\n",
    "<img src=\"figures/figure_9.png\">\n",
    "<img src=\"figures/figure_10.png\">\n",
    "<img src=\"figures/figure_11.png\">\n",
    "<img src=\"figures/figure_12.png\">\n",
    "Les modes les plus couramment observés sont les modes longitudinaux (présentés sur la figure 10) qui résultent de l’interférence constructive à l’intérieur de la cavité laser. La longueur d’onde associée à l’ordre d’interférence répond à l’équation:\n",
    "\\begin{equation}\n",
    "\\lambda_m = \\frac{2n\\mathcal L_d}{m}\n",
    "\\end{equation}\n",
    "où $\\lambda_m$ est la longueur d’onde dans le vide, m est un nombre entier représentant l’ordre d’interférence, n est l’indice de réfraction du milieu de gain et $L_d$ est la longueur du milieu actif de la diode. **Il est à noter que n ≅ 3.5 pour les diodes laser utilisées pour cette expérience.** Étant donné qu’une diode laser peut être représentée comme une cavité Fabry-Perot, l’espacement entre les modes longitudinaux d’émission correspond à\n",
    "\\begin{equation}\n",
    "\\delta \\lambda = \\frac{\\lambda_0^2}{2n\\mathcal L_d}\n",
    "\\end{equation}\n",
    "Cette équation est similaire à l’équation utilisée pour déterminer l’espacement entre deux\n",
    "modes successifs de l’interféromètre Fabry-Perot.\n",
    "\n",
    "Les modes d’émission latéraux sont peu fréquents dans les diodes émettant dans le visible et dans le proche infrarouge. La faible largeur des zones actives des diodes laser conventionnelles ne permet pas la présence d’une multitude de modes latéraux. À moins de disposer d’une zone de gain particulièrement épaisse, la présence de modes transversaux d’ordres supérieurs est exceptionnelle."
   ]
  },
  {
   "cell_type": "markdown",
   "metadata": {},
   "source": [
    "## Exercice 2\n",
    "\n",
    "Dans ce deuxième exercice, nous allons calculer le spectre des diodes laser et ainsi porter une hypothèse sur la taille physique de cette diode en utilisant une cavité de Fabry-Perot.\n",
    "\n",
    "### a)\n",
    "Observons le champ électrique associé à une diode laser conventionnelle sur une distance de $10 \\lambda$ et $1000 \\lambda$"
   ]
  },
  {
   "cell_type": "code",
   "execution_count": null,
   "metadata": {},
   "outputs": [],
   "source": [
    "## Caractéristiques du laser\n",
    "longueur_onde_centrale = 632.8e-9\n",
    "ISL_laser = 300e9\n",
    "\n",
    "## Fonction champ électrique (E(z))\n",
    "champ_electrique_1 = champ_electrique_laser_func(longueur_onde_centrale, ISL_laser)\n",
    "\n",
    "## Affichons le champ électrique sur une distance de 100 longueurs \n",
    "## d'ondes en générant un domaine discret de 1000 valeurs distribuées \n",
    "## également entre 0 et 100 \\lambda\n",
    "espace_discret_petit = np.linspace(0,10*longueur_onde_1,1000)\n",
    "espace_discret_grand = np.linspace(0,1000*longueur_onde_1,10000)\n",
    "\n",
    "## Utilisons matplotlib pour générer l'affichage de la partie réelle du champ électrique\n",
    "plt.plot(espace_discret_petit*10**6, np.real(champ_electrique_1(espace_discret_petit)))\n",
    "plt.title(\"Figure 1: Partie réelle du champ électrique\\n d'une source laser réelle (petit domaine)\")\n",
    "plt.ylabel('Intensité normalisée')\n",
    "plt.xlabel(r'Espace ($\\mu$m)')\n",
    "plt.show()\n",
    "\n",
    "## Utilisons matplotlib pour générer l'affichage de l'intensité du champ électrique\n",
    "plt.plot(espace_discret_petit*10**6, np.abs(champ_electrique_1(espace_discret_petit))**2)\n",
    "plt.title(\"Figure 2:  Irradiance du champ électrique\\n d'une source laser réelle (petit domaine)\")\n",
    "plt.ylabel('Intensité normalisée')\n",
    "plt.xlabel(r'Espace ($\\mu$m)')\n",
    "plt.show()\n",
    "\n",
    "## Utilisons matplotlib pour générer l'affichage de la partie réelle du champ électrique\n",
    "plt.plot(espace_discret_grand*10**6, np.real(champ_electrique_1(espace_discret_grand)))\n",
    "plt.title(\"Figure 3: Partie réelle du champ électrique\\n d'une source laser réelle (grand domaine)\")\n",
    "plt.ylabel('Intensité normalisée')\n",
    "plt.xlabel(r'Espace ($\\mu$m)')\n",
    "plt.show()\n",
    "\n",
    "## Utilisons matplotlib pour générer l'affichage de l'intensité du champ électrique\n",
    "plt.plot(espace_discret_grand*10**6, np.abs(champ_electrique_1(espace_discret_grand))**2)\n",
    "plt.title(\"Figure 4:  Irradiance du champ électrique\\n d'une source laser réelle (grand domaine)\")\n",
    "plt.ylabel('Intensité normalisée')\n",
    "plt.xlabel(r'Espace ($\\mu$m)')\n",
    "plt.show()"
   ]
  },
  {
   "cell_type": "markdown",
   "metadata": {},
   "source": [
    "**Quelle est la différence avec 1a) ? Commentez sur l'impact du spectre d'une diode laser sur la stabilité du faisceau**"
   ]
  },
  {
   "cell_type": "markdown",
   "metadata": {},
   "source": [
    "### b)\n",
    "Utilisons une cavité Fabry-Perot (avec les mêmes caractéristiques qu'en 1) pour caractériser le spectre du champ électrique de la diode laser utilisée en a)"
   ]
  },
  {
   "cell_type": "code",
   "execution_count": null,
   "metadata": {},
   "outputs": [],
   "source": [
    "## Caractéristiques du laser\n",
    "longueur_onde_centrale = 632.8e-9\n",
    "ISL_laser = 300e9\n",
    "SMSR = 4\n",
    "\n",
    "## Fonction champ électrique (E(z))\n",
    "champ_electrique_1 = champ_electrique_laser_func(longueur_onde_centrale, ISL_laser, SMSR)\n",
    "\n",
    "\n",
    "## Cavité F-P\n",
    "\n",
    "ISL_fp = 1500e9\n",
    "R = 0.99\n",
    "\n",
    "trace_fp_diode_1 = lambda amplitude, bias: trace_fp(amplitude, bias, ISL_fp, R, champ_electrique_1)"
   ]
  },
  {
   "cell_type": "code",
   "execution_count": null,
   "metadata": {},
   "outputs": [],
   "source": [
    "distance_miroirs, intensité = trace_fp_diode_1(1e-6,0)\n",
    "plt.plot(distance_miroirs*1e6, intensité)\n",
    "plt.title(\"Figure 7: Intensité du champ électrique à la sortie\\n d'un Fabry-Perot d'ISL 1500 ghz\")\n",
    "plt.xlabel(r'Variation de distance entre les deux miroirs de la cavité ($\\mu m$)')\n",
    "plt.ylabel('Intensité relative du champ électrique')\n",
    "plt.show()"
   ]
  },
  {
   "cell_type": "markdown",
   "metadata": {},
   "source": [
    "**En vous servant de la fonction de détection de pics utilisée en 1 ainsi que des équations suivantes, retrouvez la taille physique de la diode en ajoutant des cellules sous celle-ci:**\n",
    "\n",
    "\\begin{equation}\n",
    "\\Delta \\nu_{FP} = \\frac{c}{2 n \\mathcal L_{FP}} = ISL\\\\\n",
    "\\frac{\\delta \\nu_d}{\\Delta \\nu_{fp}} = \\frac{\\delta t}{\\Delta T}\\\\\n",
    "\\delta \\lambda_D = \\frac{\\lambda_D^2}{c}\\delta \\nu_d\\\\\n",
    "\\delta \\nu_d = \\frac{c}{2n_d\\mathcal L_d}\n",
    "\\end{equation}\n",
    "où $\\lambda_d$ est la longueur d'onde pic de la diode et $c$ est la vitesse de la lumière. Notez que la longueur d'onde pic devrait être mesurée avec la méthode utilisée en a). $n_d$ est l'indice de réfraction du milieu de gain de la diode laser (3.5) et $\\mathcal L_d$ est la longueur de la cavité de la diode laser. Les $\\delta t$ et $\\Delta T$ sont explicités à la figure ci-dessous, et correspondent à la distance entre les pics\n",
    "<img src=\"figures/figure_pic.png\">\n"
   ]
  },
  {
   "cell_type": "code",
   "execution_count": null,
   "metadata": {},
   "outputs": [],
   "source": [
    "## Obtenons les pics (d'une hauteur plus grande que 0.025)\n",
    "\n",
    "peaks, _ = signal.find_peaks(intensité, height = 0.025)\n",
    "\n",
    "\n",
    "## Obtenons la distance entre les miroirs associé à ces pics et la hauteur de ces pics. La hauteur vous permettra di\n",
    "\n",
    "distance = distance_miroirs[peaks]\n",
    "hauteur = intensité[peaks]\n",
    "\n",
    "\n",
    "## Et la distance entre ces pics est la différence\n",
    "\n",
    "différence_miroirs = np.diff(distance)"
   ]
  },
  {
   "cell_type": "markdown",
   "metadata": {},
   "source": [
    "### c)\n",
    "**Reprenons le calcul de la précédente question avec différentes diodes. Discutez de la différence qu'ont les paramètres SMSR, ISL_diode et la longueur d'onde centrale sur la mesure à prendre. Calculez les dimensions des diodes 1 et 2 seulement. Ajoutez les cellules nécessaires après celle-ci**"
   ]
  },
  {
   "cell_type": "code",
   "execution_count": null,
   "metadata": {},
   "outputs": [],
   "source": [
    "## Caractéristiques du laser\n",
    "longueur_onde_centrale_1 = 632.8e-9\n",
    "ISL_laser_1 = 300e9\n",
    "SMSR_1 = 4\n",
    "longueur_onde_centrale_2 = 800e-9\n",
    "ISL_laser_2 = 300e9\n",
    "SMSR_2 = 4\n",
    "longueur_onde_centrale_3 = 632.8e-9\n",
    "ISL_laser_3 = 300e9\n",
    "SMSR_3 = 2\n",
    "longueur_onde_centrale_4 = 632.8e-9\n",
    "ISL_laser_4 = 500e9\n",
    "SMSR_4 = 4\n",
    "\n",
    "## Fonction champ électrique (E(z))\n",
    "champ_electrique_1 = champ_electrique_laser_func(longueur_onde_centrale_1, ISL_laser_1, SMSR_1)\n",
    "champ_electrique_2 = champ_electrique_laser_func(longueur_onde_centrale_2, ISL_laser_2, SMSR_2)\n",
    "champ_electrique_3 = champ_electrique_laser_func(longueur_onde_centrale_3, ISL_laser_3, SMSR_3)\n",
    "champ_electrique_4 = champ_electrique_laser_func(longueur_onde_centrale_4, ISL_laser_4, SMSR_4)\n",
    "\n",
    "\n",
    "## Cavité F-P\n",
    "\n",
    "ISL_fp = 1500e9\n",
    "R = 0.98\n",
    "\n",
    "trace_fp_diode_1 = lambda amplitude, bias: trace_fp(amplitude, bias, ISL_fp, R, champ_electrique_1)\n",
    "trace_fp_diode_2 = lambda amplitude, bias: trace_fp(amplitude, bias, ISL_fp, R, champ_electrique_2)\n",
    "trace_fp_diode_3 = lambda amplitude, bias: trace_fp(amplitude, bias, ISL_fp, R, champ_electrique_3)\n",
    "trace_fp_diode_4 = lambda amplitude, bias: trace_fp(amplitude, bias, ISL_fp, R, champ_electrique_4)"
   ]
  },
  {
   "cell_type": "markdown",
   "metadata": {},
   "source": [
    "#### d)\n",
    "**Reprenons le dernier calcul mais en mesurant l'ISL de deux lasers helium-neon. Pour cette tâche, la cavité fabry-perot devra avoir un ISL de 30GHz et des miroirs de réflectivité de 99%. Les lasers devront avoir les caractéristiques des produits suivants HNL008RB et HNL020RB (Wavelength et Longitudinal Mode Spacing). Laissez le SMSR à 3. Ajoutez les cellules nécessaires après celle-ci**\n",
    "\n",
    "<img src=\"figures/spec_laser.png\">"
   ]
  },
  {
   "cell_type": "code",
   "execution_count": null,
   "metadata": {},
   "outputs": [],
   "source": [
    "# # Caractéristiques du laser\n",
    "\n",
    "# longueur_onde_centrale_1 = \n",
    "# ISL_laser_1 = \n",
    "# SMSR_1 = 3\n",
    "# longueur_onde_centrale_2 =\n",
    "# ISL_laser_2 = \n",
    "# SMSR_2 = 3\n",
    "\n",
    "\n",
    "# # Fonction champ électrique (E(z))\n",
    "\n",
    "# champ_electrique_1 = champ_electrique_laser_func(longueur_onde_centrale_1, ISL_laser_1, SMSR_1)\n",
    "# champ_electrique_2 = champ_electrique_laser_func(longueur_onde_centrale_2, ISL_laser_2, SMSR_2)\n",
    "# champ_electrique_3 = champ_electrique_laser_func(longueur_onde_centrale_3, ISL_laser_3, SMSR_3)\n",
    "# champ_electrique_4 = champ_electrique_laser_func(longueur_onde_centrale_4, ISL_laser_4, SMSR_4)\n",
    "\n",
    "\n",
    "# # Cavité F-P\n",
    "\n",
    "# ISL_fp = \n",
    "# R =\n",
    "\n",
    "# trace_fp_diode_1 = lambda amplitude, bias: trace_fp(amplitude, bias, ISL_fp, R, champ_electrique_1)\n",
    "# trace_fp_diode_2 = lambda amplitude, bias: trace_fp(amplitude, bias, ISL_fp, R, champ_electrique_2)"
   ]
  },
  {
   "cell_type": "markdown",
   "metadata": {},
   "source": [
    "## Discussion et calculs supplémentaires\n",
    "- Quel est l'impact de la distance entre les deux miroirs d'une cavité Fabry-Perot sur le champ électrique sortant?\n",
    "- Comment est-ce que la variation de la distance entre ces deux miroirs nous permet de calculer la longueur d'onde d'une source?\n",
    "- Quel est l'impact de la réflectivité des miroirs sur la finesse? Existe-il une relation directe entre les deux? Pouvez-vous tracer une courbe de f en fonction de r avec une dizaine de points?\n",
    "- Quel est l'impact de la taille d'une diode sur son champ électrique et la stabilité de celui-ci dans le temps?\n",
    "- Quel est l'ordre de grandeur des spectres qui sont mesurés par le Fabry-Perot? Quelle est la différence entre les mesures qui ont été prises avec la cavité à 1500GHz et celle à 30GHz?\n",
    "- Commentez sur la stabilité en temps/distance des diodes laser compacte et des Helium-Neon. Quelle est la différence sur le champ électrique?\n",
    "- Quels sont les problèmes que vous pouvez anticiper si vous souhaiteriez fabriquer une cavité Fabry-Perot? Quelles composantes sont les plus critiques? Commentez sur la réflectivité des miroirs, le montage de ceux-ci, le coalignement des deux miroirs ainsi que sur le déplacement précis des miroirs.\n"
   ]
  },
  {
   "cell_type": "code",
   "execution_count": null,
   "metadata": {},
   "outputs": [],
   "source": []
  }
 ],
 "metadata": {
  "kernelspec": {
   "display_name": "Python 3",
   "language": "python",
   "name": "python3"
  },
  "language_info": {
   "codemirror_mode": {
    "name": "ipython",
    "version": 3
   },
   "file_extension": ".py",
   "mimetype": "text/x-python",
   "name": "python",
   "nbconvert_exporter": "python",
   "pygments_lexer": "ipython3",
   "version": "3.7.4"
  }
 },
 "nbformat": 4,
 "nbformat_minor": 2
}
